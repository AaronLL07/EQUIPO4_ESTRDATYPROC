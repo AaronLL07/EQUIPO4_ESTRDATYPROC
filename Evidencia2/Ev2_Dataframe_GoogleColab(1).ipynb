{
  "nbformat": 4,
  "nbformat_minor": 0,
  "metadata": {
    "colab": {
      "provenance": []
    },
    "kernelspec": {
      "name": "python3",
      "display_name": "Python 3"
    },
    "language_info": {
      "name": "python"
    }
  },
  "cells": [
    {
      "cell_type": "code",
      "execution_count": 2,
      "metadata": {
        "id": "9gD8Oih-6aKl"
      },
      "outputs": [],
      "source": [
        "import pandas as pd\n",
        "import io"
      ]
    },
    {
      "cell_type": "code",
      "source": [
        "from google.colab import files"
      ],
      "metadata": {
        "id": "Uq3dK9vu6cE_"
      },
      "execution_count": 3,
      "outputs": []
    },
    {
      "cell_type": "code",
      "source": [
        "uploaded = files.upload()"
      ],
      "metadata": {
        "colab": {
          "base_uri": "https://localhost:8080/",
          "height": 74
        },
        "id": "NrhWQuihE3fd",
        "outputId": "bc23f3cb-a4c2-4b54-b1b0-c15ccc13f290"
      },
      "execution_count": 4,
      "outputs": [
        {
          "output_type": "display_data",
          "data": {
            "text/plain": [
              "<IPython.core.display.HTML object>"
            ],
            "text/html": [
              "\n",
              "     <input type=\"file\" id=\"files-69cf4ab4-6e61-4bf9-9082-e3abfe1dcb53\" name=\"files[]\" multiple disabled\n",
              "        style=\"border:none\" />\n",
              "     <output id=\"result-69cf4ab4-6e61-4bf9-9082-e3abfe1dcb53\">\n",
              "      Upload widget is only available when the cell has been executed in the\n",
              "      current browser session. Please rerun this cell to enable.\n",
              "      </output>\n",
              "      <script>// Copyright 2017 Google LLC\n",
              "//\n",
              "// Licensed under the Apache License, Version 2.0 (the \"License\");\n",
              "// you may not use this file except in compliance with the License.\n",
              "// You may obtain a copy of the License at\n",
              "//\n",
              "//      http://www.apache.org/licenses/LICENSE-2.0\n",
              "//\n",
              "// Unless required by applicable law or agreed to in writing, software\n",
              "// distributed under the License is distributed on an \"AS IS\" BASIS,\n",
              "// WITHOUT WARRANTIES OR CONDITIONS OF ANY KIND, either express or implied.\n",
              "// See the License for the specific language governing permissions and\n",
              "// limitations under the License.\n",
              "\n",
              "/**\n",
              " * @fileoverview Helpers for google.colab Python module.\n",
              " */\n",
              "(function(scope) {\n",
              "function span(text, styleAttributes = {}) {\n",
              "  const element = document.createElement('span');\n",
              "  element.textContent = text;\n",
              "  for (const key of Object.keys(styleAttributes)) {\n",
              "    element.style[key] = styleAttributes[key];\n",
              "  }\n",
              "  return element;\n",
              "}\n",
              "\n",
              "// Max number of bytes which will be uploaded at a time.\n",
              "const MAX_PAYLOAD_SIZE = 100 * 1024;\n",
              "\n",
              "function _uploadFiles(inputId, outputId) {\n",
              "  const steps = uploadFilesStep(inputId, outputId);\n",
              "  const outputElement = document.getElementById(outputId);\n",
              "  // Cache steps on the outputElement to make it available for the next call\n",
              "  // to uploadFilesContinue from Python.\n",
              "  outputElement.steps = steps;\n",
              "\n",
              "  return _uploadFilesContinue(outputId);\n",
              "}\n",
              "\n",
              "// This is roughly an async generator (not supported in the browser yet),\n",
              "// where there are multiple asynchronous steps and the Python side is going\n",
              "// to poll for completion of each step.\n",
              "// This uses a Promise to block the python side on completion of each step,\n",
              "// then passes the result of the previous step as the input to the next step.\n",
              "function _uploadFilesContinue(outputId) {\n",
              "  const outputElement = document.getElementById(outputId);\n",
              "  const steps = outputElement.steps;\n",
              "\n",
              "  const next = steps.next(outputElement.lastPromiseValue);\n",
              "  return Promise.resolve(next.value.promise).then((value) => {\n",
              "    // Cache the last promise value to make it available to the next\n",
              "    // step of the generator.\n",
              "    outputElement.lastPromiseValue = value;\n",
              "    return next.value.response;\n",
              "  });\n",
              "}\n",
              "\n",
              "/**\n",
              " * Generator function which is called between each async step of the upload\n",
              " * process.\n",
              " * @param {string} inputId Element ID of the input file picker element.\n",
              " * @param {string} outputId Element ID of the output display.\n",
              " * @return {!Iterable<!Object>} Iterable of next steps.\n",
              " */\n",
              "function* uploadFilesStep(inputId, outputId) {\n",
              "  const inputElement = document.getElementById(inputId);\n",
              "  inputElement.disabled = false;\n",
              "\n",
              "  const outputElement = document.getElementById(outputId);\n",
              "  outputElement.innerHTML = '';\n",
              "\n",
              "  const pickedPromise = new Promise((resolve) => {\n",
              "    inputElement.addEventListener('change', (e) => {\n",
              "      resolve(e.target.files);\n",
              "    });\n",
              "  });\n",
              "\n",
              "  const cancel = document.createElement('button');\n",
              "  inputElement.parentElement.appendChild(cancel);\n",
              "  cancel.textContent = 'Cancel upload';\n",
              "  const cancelPromise = new Promise((resolve) => {\n",
              "    cancel.onclick = () => {\n",
              "      resolve(null);\n",
              "    };\n",
              "  });\n",
              "\n",
              "  // Wait for the user to pick the files.\n",
              "  const files = yield {\n",
              "    promise: Promise.race([pickedPromise, cancelPromise]),\n",
              "    response: {\n",
              "      action: 'starting',\n",
              "    }\n",
              "  };\n",
              "\n",
              "  cancel.remove();\n",
              "\n",
              "  // Disable the input element since further picks are not allowed.\n",
              "  inputElement.disabled = true;\n",
              "\n",
              "  if (!files) {\n",
              "    return {\n",
              "      response: {\n",
              "        action: 'complete',\n",
              "      }\n",
              "    };\n",
              "  }\n",
              "\n",
              "  for (const file of files) {\n",
              "    const li = document.createElement('li');\n",
              "    li.append(span(file.name, {fontWeight: 'bold'}));\n",
              "    li.append(span(\n",
              "        `(${file.type || 'n/a'}) - ${file.size} bytes, ` +\n",
              "        `last modified: ${\n",
              "            file.lastModifiedDate ? file.lastModifiedDate.toLocaleDateString() :\n",
              "                                    'n/a'} - `));\n",
              "    const percent = span('0% done');\n",
              "    li.appendChild(percent);\n",
              "\n",
              "    outputElement.appendChild(li);\n",
              "\n",
              "    const fileDataPromise = new Promise((resolve) => {\n",
              "      const reader = new FileReader();\n",
              "      reader.onload = (e) => {\n",
              "        resolve(e.target.result);\n",
              "      };\n",
              "      reader.readAsArrayBuffer(file);\n",
              "    });\n",
              "    // Wait for the data to be ready.\n",
              "    let fileData = yield {\n",
              "      promise: fileDataPromise,\n",
              "      response: {\n",
              "        action: 'continue',\n",
              "      }\n",
              "    };\n",
              "\n",
              "    // Use a chunked sending to avoid message size limits. See b/62115660.\n",
              "    let position = 0;\n",
              "    do {\n",
              "      const length = Math.min(fileData.byteLength - position, MAX_PAYLOAD_SIZE);\n",
              "      const chunk = new Uint8Array(fileData, position, length);\n",
              "      position += length;\n",
              "\n",
              "      const base64 = btoa(String.fromCharCode.apply(null, chunk));\n",
              "      yield {\n",
              "        response: {\n",
              "          action: 'append',\n",
              "          file: file.name,\n",
              "          data: base64,\n",
              "        },\n",
              "      };\n",
              "\n",
              "      let percentDone = fileData.byteLength === 0 ?\n",
              "          100 :\n",
              "          Math.round((position / fileData.byteLength) * 100);\n",
              "      percent.textContent = `${percentDone}% done`;\n",
              "\n",
              "    } while (position < fileData.byteLength);\n",
              "  }\n",
              "\n",
              "  // All done.\n",
              "  yield {\n",
              "    response: {\n",
              "      action: 'complete',\n",
              "    }\n",
              "  };\n",
              "}\n",
              "\n",
              "scope.google = scope.google || {};\n",
              "scope.google.colab = scope.google.colab || {};\n",
              "scope.google.colab._files = {\n",
              "  _uploadFiles,\n",
              "  _uploadFilesContinue,\n",
              "};\n",
              "})(self);\n",
              "</script> "
            ]
          },
          "metadata": {}
        },
        {
          "output_type": "stream",
          "name": "stdout",
          "text": [
            "Saving evidencia2_lista.xlsx to evidencia2_lista.xlsx\n"
          ]
        }
      ]
    },
    {
      "cell_type": "code",
      "source": [
        "dataframe = pd.read_excel(io.BytesIO(uploaded['evidencia2_lista.xlsx']))"
      ],
      "metadata": {
        "id": "6fJGQcN_FBuV"
      },
      "execution_count": 5,
      "outputs": []
    },
    {
      "cell_type": "code",
      "source": [
        "dataframe.head()"
      ],
      "metadata": {
        "colab": {
          "base_uri": "https://localhost:8080/",
          "height": 276
        },
        "id": "h6NMr77dFRYY",
        "outputId": "e5e50f1c-9fae-44fc-dba5-d81ad7bf9e7d"
      },
      "execution_count": 6,
      "outputs": [
        {
          "output_type": "execute_result",
          "data": {
            "text/plain": [
              "   Unnamed: 0  CANTIDAD                                        DESCRIPCION  \\\n",
              "0           0         3       Bolígrafo Bic Cristal Punto Ultrafino Negro    \n",
              "1           1         1  Cuaderno College Norma Color Cosido Cuadro Chi...   \n",
              "2           2         1                 Pantalla TCL Smart 32\" HD Smart TV   \n",
              "3           3         1                  Camara Web Acteck 720P WM20 Negro   \n",
              "4           4         1  Mouse Gaming Inalámbrico Hiperion Balam Rush E...   \n",
              "\n",
              "   PRECIO UNITARIO  IMPORTE  DESCUENTO  TOTAL CON DECUENTO FECHA DE ENTRADA  \\\n",
              "0              7.3     21.9        0.3               15.33       2023-01-03   \n",
              "1             76.9     76.9        0.3               53.83       2023-03-02   \n",
              "2           4799.9   4799.9        0.0             4799.90       2023-03-15   \n",
              "3            319.9    319.9        0.5              159.95       2023-04-07   \n",
              "4            749.0    749.0        0.0              749.00       2023-04-11   \n",
              "\n",
              "          DEPARTAMENTO      BANCO  NUMERO DE PRODUCTO  \n",
              "0  Escolar y Papelería  SANTANDER               25018  \n",
              "1  Escolar y Papelería  SANTANDER               24799  \n",
              "2          Electrónica  SANTANDER               24734  \n",
              "3          Electrónica    BANORTE               24730  \n",
              "4          Electrónica    BANORTE               24767  "
            ],
            "text/html": [
              "\n",
              "  <div id=\"df-cb639dd3-1019-430c-8287-f2f582712b68\" class=\"colab-df-container\">\n",
              "    <div>\n",
              "<style scoped>\n",
              "    .dataframe tbody tr th:only-of-type {\n",
              "        vertical-align: middle;\n",
              "    }\n",
              "\n",
              "    .dataframe tbody tr th {\n",
              "        vertical-align: top;\n",
              "    }\n",
              "\n",
              "    .dataframe thead th {\n",
              "        text-align: right;\n",
              "    }\n",
              "</style>\n",
              "<table border=\"1\" class=\"dataframe\">\n",
              "  <thead>\n",
              "    <tr style=\"text-align: right;\">\n",
              "      <th></th>\n",
              "      <th>Unnamed: 0</th>\n",
              "      <th>CANTIDAD</th>\n",
              "      <th>DESCRIPCION</th>\n",
              "      <th>PRECIO UNITARIO</th>\n",
              "      <th>IMPORTE</th>\n",
              "      <th>DESCUENTO</th>\n",
              "      <th>TOTAL CON DECUENTO</th>\n",
              "      <th>FECHA DE ENTRADA</th>\n",
              "      <th>DEPARTAMENTO</th>\n",
              "      <th>BANCO</th>\n",
              "      <th>NUMERO DE PRODUCTO</th>\n",
              "    </tr>\n",
              "  </thead>\n",
              "  <tbody>\n",
              "    <tr>\n",
              "      <th>0</th>\n",
              "      <td>0</td>\n",
              "      <td>3</td>\n",
              "      <td>Bolígrafo Bic Cristal Punto Ultrafino Negro</td>\n",
              "      <td>7.3</td>\n",
              "      <td>21.9</td>\n",
              "      <td>0.3</td>\n",
              "      <td>15.33</td>\n",
              "      <td>2023-01-03</td>\n",
              "      <td>Escolar y Papelería</td>\n",
              "      <td>SANTANDER</td>\n",
              "      <td>25018</td>\n",
              "    </tr>\n",
              "    <tr>\n",
              "      <th>1</th>\n",
              "      <td>1</td>\n",
              "      <td>1</td>\n",
              "      <td>Cuaderno College Norma Color Cosido Cuadro Chi...</td>\n",
              "      <td>76.9</td>\n",
              "      <td>76.9</td>\n",
              "      <td>0.3</td>\n",
              "      <td>53.83</td>\n",
              "      <td>2023-03-02</td>\n",
              "      <td>Escolar y Papelería</td>\n",
              "      <td>SANTANDER</td>\n",
              "      <td>24799</td>\n",
              "    </tr>\n",
              "    <tr>\n",
              "      <th>2</th>\n",
              "      <td>2</td>\n",
              "      <td>1</td>\n",
              "      <td>Pantalla TCL Smart 32\" HD Smart TV</td>\n",
              "      <td>4799.9</td>\n",
              "      <td>4799.9</td>\n",
              "      <td>0.0</td>\n",
              "      <td>4799.90</td>\n",
              "      <td>2023-03-15</td>\n",
              "      <td>Electrónica</td>\n",
              "      <td>SANTANDER</td>\n",
              "      <td>24734</td>\n",
              "    </tr>\n",
              "    <tr>\n",
              "      <th>3</th>\n",
              "      <td>3</td>\n",
              "      <td>1</td>\n",
              "      <td>Camara Web Acteck 720P WM20 Negro</td>\n",
              "      <td>319.9</td>\n",
              "      <td>319.9</td>\n",
              "      <td>0.5</td>\n",
              "      <td>159.95</td>\n",
              "      <td>2023-04-07</td>\n",
              "      <td>Electrónica</td>\n",
              "      <td>BANORTE</td>\n",
              "      <td>24730</td>\n",
              "    </tr>\n",
              "    <tr>\n",
              "      <th>4</th>\n",
              "      <td>4</td>\n",
              "      <td>1</td>\n",
              "      <td>Mouse Gaming Inalámbrico Hiperion Balam Rush E...</td>\n",
              "      <td>749.0</td>\n",
              "      <td>749.0</td>\n",
              "      <td>0.0</td>\n",
              "      <td>749.00</td>\n",
              "      <td>2023-04-11</td>\n",
              "      <td>Electrónica</td>\n",
              "      <td>BANORTE</td>\n",
              "      <td>24767</td>\n",
              "    </tr>\n",
              "  </tbody>\n",
              "</table>\n",
              "</div>\n",
              "    <div class=\"colab-df-buttons\">\n",
              "\n",
              "  <div class=\"colab-df-container\">\n",
              "    <button class=\"colab-df-convert\" onclick=\"convertToInteractive('df-cb639dd3-1019-430c-8287-f2f582712b68')\"\n",
              "            title=\"Convert this dataframe to an interactive table.\"\n",
              "            style=\"display:none;\">\n",
              "\n",
              "  <svg xmlns=\"http://www.w3.org/2000/svg\" height=\"24px\" viewBox=\"0 -960 960 960\">\n",
              "    <path d=\"M120-120v-720h720v720H120Zm60-500h600v-160H180v160Zm220 220h160v-160H400v160Zm0 220h160v-160H400v160ZM180-400h160v-160H180v160Zm440 0h160v-160H620v160ZM180-180h160v-160H180v160Zm440 0h160v-160H620v160Z\"/>\n",
              "  </svg>\n",
              "    </button>\n",
              "\n",
              "  <style>\n",
              "    .colab-df-container {\n",
              "      display:flex;\n",
              "      gap: 12px;\n",
              "    }\n",
              "\n",
              "    .colab-df-convert {\n",
              "      background-color: #E8F0FE;\n",
              "      border: none;\n",
              "      border-radius: 50%;\n",
              "      cursor: pointer;\n",
              "      display: none;\n",
              "      fill: #1967D2;\n",
              "      height: 32px;\n",
              "      padding: 0 0 0 0;\n",
              "      width: 32px;\n",
              "    }\n",
              "\n",
              "    .colab-df-convert:hover {\n",
              "      background-color: #E2EBFA;\n",
              "      box-shadow: 0px 1px 2px rgba(60, 64, 67, 0.3), 0px 1px 3px 1px rgba(60, 64, 67, 0.15);\n",
              "      fill: #174EA6;\n",
              "    }\n",
              "\n",
              "    .colab-df-buttons div {\n",
              "      margin-bottom: 4px;\n",
              "    }\n",
              "\n",
              "    [theme=dark] .colab-df-convert {\n",
              "      background-color: #3B4455;\n",
              "      fill: #D2E3FC;\n",
              "    }\n",
              "\n",
              "    [theme=dark] .colab-df-convert:hover {\n",
              "      background-color: #434B5C;\n",
              "      box-shadow: 0px 1px 3px 1px rgba(0, 0, 0, 0.15);\n",
              "      filter: drop-shadow(0px 1px 2px rgba(0, 0, 0, 0.3));\n",
              "      fill: #FFFFFF;\n",
              "    }\n",
              "  </style>\n",
              "\n",
              "    <script>\n",
              "      const buttonEl =\n",
              "        document.querySelector('#df-cb639dd3-1019-430c-8287-f2f582712b68 button.colab-df-convert');\n",
              "      buttonEl.style.display =\n",
              "        google.colab.kernel.accessAllowed ? 'block' : 'none';\n",
              "\n",
              "      async function convertToInteractive(key) {\n",
              "        const element = document.querySelector('#df-cb639dd3-1019-430c-8287-f2f582712b68');\n",
              "        const dataTable =\n",
              "          await google.colab.kernel.invokeFunction('convertToInteractive',\n",
              "                                                    [key], {});\n",
              "        if (!dataTable) return;\n",
              "\n",
              "        const docLinkHtml = 'Like what you see? Visit the ' +\n",
              "          '<a target=\"_blank\" href=https://colab.research.google.com/notebooks/data_table.ipynb>data table notebook</a>'\n",
              "          + ' to learn more about interactive tables.';\n",
              "        element.innerHTML = '';\n",
              "        dataTable['output_type'] = 'display_data';\n",
              "        await google.colab.output.renderOutput(dataTable, element);\n",
              "        const docLink = document.createElement('div');\n",
              "        docLink.innerHTML = docLinkHtml;\n",
              "        element.appendChild(docLink);\n",
              "      }\n",
              "    </script>\n",
              "  </div>\n",
              "\n",
              "\n",
              "<div id=\"df-69ca4075-e65a-4ccb-9f71-7ba3255bc963\">\n",
              "  <button class=\"colab-df-quickchart\" onclick=\"quickchart('df-69ca4075-e65a-4ccb-9f71-7ba3255bc963')\"\n",
              "            title=\"Suggest charts.\"\n",
              "            style=\"display:none;\">\n",
              "\n",
              "<svg xmlns=\"http://www.w3.org/2000/svg\" height=\"24px\"viewBox=\"0 0 24 24\"\n",
              "     width=\"24px\">\n",
              "    <g>\n",
              "        <path d=\"M19 3H5c-1.1 0-2 .9-2 2v14c0 1.1.9 2 2 2h14c1.1 0 2-.9 2-2V5c0-1.1-.9-2-2-2zM9 17H7v-7h2v7zm4 0h-2V7h2v10zm4 0h-2v-4h2v4z\"/>\n",
              "    </g>\n",
              "</svg>\n",
              "  </button>\n",
              "\n",
              "<style>\n",
              "  .colab-df-quickchart {\n",
              "      --bg-color: #E8F0FE;\n",
              "      --fill-color: #1967D2;\n",
              "      --hover-bg-color: #E2EBFA;\n",
              "      --hover-fill-color: #174EA6;\n",
              "      --disabled-fill-color: #AAA;\n",
              "      --disabled-bg-color: #DDD;\n",
              "  }\n",
              "\n",
              "  [theme=dark] .colab-df-quickchart {\n",
              "      --bg-color: #3B4455;\n",
              "      --fill-color: #D2E3FC;\n",
              "      --hover-bg-color: #434B5C;\n",
              "      --hover-fill-color: #FFFFFF;\n",
              "      --disabled-bg-color: #3B4455;\n",
              "      --disabled-fill-color: #666;\n",
              "  }\n",
              "\n",
              "  .colab-df-quickchart {\n",
              "    background-color: var(--bg-color);\n",
              "    border: none;\n",
              "    border-radius: 50%;\n",
              "    cursor: pointer;\n",
              "    display: none;\n",
              "    fill: var(--fill-color);\n",
              "    height: 32px;\n",
              "    padding: 0;\n",
              "    width: 32px;\n",
              "  }\n",
              "\n",
              "  .colab-df-quickchart:hover {\n",
              "    background-color: var(--hover-bg-color);\n",
              "    box-shadow: 0 1px 2px rgba(60, 64, 67, 0.3), 0 1px 3px 1px rgba(60, 64, 67, 0.15);\n",
              "    fill: var(--button-hover-fill-color);\n",
              "  }\n",
              "\n",
              "  .colab-df-quickchart-complete:disabled,\n",
              "  .colab-df-quickchart-complete:disabled:hover {\n",
              "    background-color: var(--disabled-bg-color);\n",
              "    fill: var(--disabled-fill-color);\n",
              "    box-shadow: none;\n",
              "  }\n",
              "\n",
              "  .colab-df-spinner {\n",
              "    border: 2px solid var(--fill-color);\n",
              "    border-color: transparent;\n",
              "    border-bottom-color: var(--fill-color);\n",
              "    animation:\n",
              "      spin 1s steps(1) infinite;\n",
              "  }\n",
              "\n",
              "  @keyframes spin {\n",
              "    0% {\n",
              "      border-color: transparent;\n",
              "      border-bottom-color: var(--fill-color);\n",
              "      border-left-color: var(--fill-color);\n",
              "    }\n",
              "    20% {\n",
              "      border-color: transparent;\n",
              "      border-left-color: var(--fill-color);\n",
              "      border-top-color: var(--fill-color);\n",
              "    }\n",
              "    30% {\n",
              "      border-color: transparent;\n",
              "      border-left-color: var(--fill-color);\n",
              "      border-top-color: var(--fill-color);\n",
              "      border-right-color: var(--fill-color);\n",
              "    }\n",
              "    40% {\n",
              "      border-color: transparent;\n",
              "      border-right-color: var(--fill-color);\n",
              "      border-top-color: var(--fill-color);\n",
              "    }\n",
              "    60% {\n",
              "      border-color: transparent;\n",
              "      border-right-color: var(--fill-color);\n",
              "    }\n",
              "    80% {\n",
              "      border-color: transparent;\n",
              "      border-right-color: var(--fill-color);\n",
              "      border-bottom-color: var(--fill-color);\n",
              "    }\n",
              "    90% {\n",
              "      border-color: transparent;\n",
              "      border-bottom-color: var(--fill-color);\n",
              "    }\n",
              "  }\n",
              "</style>\n",
              "\n",
              "  <script>\n",
              "    async function quickchart(key) {\n",
              "      const quickchartButtonEl =\n",
              "        document.querySelector('#' + key + ' button');\n",
              "      quickchartButtonEl.disabled = true;  // To prevent multiple clicks.\n",
              "      quickchartButtonEl.classList.add('colab-df-spinner');\n",
              "      try {\n",
              "        const charts = await google.colab.kernel.invokeFunction(\n",
              "            'suggestCharts', [key], {});\n",
              "      } catch (error) {\n",
              "        console.error('Error during call to suggestCharts:', error);\n",
              "      }\n",
              "      quickchartButtonEl.classList.remove('colab-df-spinner');\n",
              "      quickchartButtonEl.classList.add('colab-df-quickchart-complete');\n",
              "    }\n",
              "    (() => {\n",
              "      let quickchartButtonEl =\n",
              "        document.querySelector('#df-69ca4075-e65a-4ccb-9f71-7ba3255bc963 button');\n",
              "      quickchartButtonEl.style.display =\n",
              "        google.colab.kernel.accessAllowed ? 'block' : 'none';\n",
              "    })();\n",
              "  </script>\n",
              "</div>\n",
              "    </div>\n",
              "  </div>\n"
            ]
          },
          "metadata": {},
          "execution_count": 6
        }
      ]
    },
    {
      "cell_type": "markdown",
      "source": [
        "1. Crear serie en pandas"
      ],
      "metadata": {
        "id": "sTAM9vlC0iQ0"
      }
    },
    {
      "cell_type": "code",
      "source": [
        "NombreProducto = ['Bolígrafo Bic Cristal Punto Ultrafino Negro','Cuaderno College Norma Color Cosido Cuadro Chico 100 Hojas','Pantalla TCL Smart 32\" HD Smart TV',\n",
        "          'Camara Web Acteck 720P WM20 Negro','Mouse Gaming Inalámbrico Hiperion Balam Rush Espectrum','Tinte para Cabello Tono Vainilla 100% Cobertura de Canas Nutrisse 157 ml',\n",
        "          'Shampoo Fructis Brillo Vitaminado 650 ml','Desodorante en Roll On Bí-O Clinical Hialurónico 50 ml','Tabletas Alliviax Naproxeno Sódico 550 mg',\n",
        "          'Estuche de Chocolates Ferrero Rocher ','Chocolates Bon o Bon']\n",
        "PrecioUnitario = [7.30,76.90,4799.90,319.90,749.00,73.90,79.90,39.90,9.89,8.75,5.00]\n",
        "productos = pd.Series(PrecioUnitario,NombreProducto)\n",
        "productos"
      ],
      "metadata": {
        "id": "PSPOoTZyFbSz",
        "colab": {
          "base_uri": "https://localhost:8080/"
        },
        "outputId": "6834feda-02f7-444d-9b6d-a2901659c316"
      },
      "execution_count": 7,
      "outputs": [
        {
          "output_type": "execute_result",
          "data": {
            "text/plain": [
              "Bolígrafo Bic Cristal Punto Ultrafino Negro                                    7.30\n",
              "Cuaderno College Norma Color Cosido Cuadro Chico 100 Hojas                    76.90\n",
              "Pantalla TCL Smart 32\" HD Smart TV                                          4799.90\n",
              "Camara Web Acteck 720P WM20 Negro                                            319.90\n",
              "Mouse Gaming Inalámbrico Hiperion Balam Rush Espectrum                       749.00\n",
              "Tinte para Cabello Tono Vainilla 100% Cobertura de Canas Nutrisse 157 ml      73.90\n",
              "Shampoo Fructis Brillo Vitaminado 650 ml                                      79.90\n",
              "Desodorante en Roll On Bí-O Clinical Hialurónico 50 ml                        39.90\n",
              "Tabletas Alliviax Naproxeno Sódico 550 mg                                      9.89\n",
              "Estuche de Chocolates Ferrero Rocher                                           8.75\n",
              "Chocolates Bon o Bon                                                           5.00\n",
              "dtype: float64"
            ]
          },
          "metadata": {},
          "execution_count": 7
        }
      ]
    },
    {
      "cell_type": "markdown",
      "source": [
        "2. Mostrar los tipos de datos, cuántos datos almacena la serie, los indices y valores"
      ],
      "metadata": {
        "id": "WYdNwKk40naV"
      }
    },
    {
      "cell_type": "code",
      "source": [
        "productos.dtype, productos.size, productos.index, productos.values"
      ],
      "metadata": {
        "colab": {
          "base_uri": "https://localhost:8080/"
        },
        "id": "ZrT6BegTy6Aa",
        "outputId": "2e21d179-7b08-433c-b5d6-6fff45d0117b"
      },
      "execution_count": 8,
      "outputs": [
        {
          "output_type": "execute_result",
          "data": {
            "text/plain": [
              "(dtype('float64'),\n",
              " 11,\n",
              " Index(['Bolígrafo Bic Cristal Punto Ultrafino Negro',\n",
              "        'Cuaderno College Norma Color Cosido Cuadro Chico 100 Hojas',\n",
              "        'Pantalla TCL Smart 32\" HD Smart TV',\n",
              "        'Camara Web Acteck 720P WM20 Negro',\n",
              "        'Mouse Gaming Inalámbrico Hiperion Balam Rush Espectrum',\n",
              "        'Tinte para Cabello Tono Vainilla 100% Cobertura de Canas Nutrisse 157 ml',\n",
              "        'Shampoo Fructis Brillo Vitaminado 650 ml',\n",
              "        'Desodorante en Roll On Bí-O Clinical Hialurónico 50 ml',\n",
              "        'Tabletas Alliviax Naproxeno Sódico 550 mg',\n",
              "        'Estuche de Chocolates Ferrero Rocher ', 'Chocolates Bon o Bon'],\n",
              "       dtype='object'),\n",
              " array([   7.3 ,   76.9 , 4799.9 ,  319.9 ,  749.  ,   73.9 ,   79.9 ,\n",
              "          39.9 ,    9.89,    8.75,    5.  ]))"
            ]
          },
          "metadata": {},
          "execution_count": 8
        }
      ]
    },
    {
      "cell_type": "markdown",
      "source": [
        "Mostrar los elementos en un indice"
      ],
      "metadata": {
        "id": "gAenv8Pi00aW"
      }
    },
    {
      "cell_type": "code",
      "source": [
        "for elemento in productos.index:\n",
        "  print(elemento)"
      ],
      "metadata": {
        "colab": {
          "base_uri": "https://localhost:8080/"
        },
        "id": "8eG-j4T_0G4k",
        "outputId": "5b390177-d891-4040-d024-4b46aac38d2b"
      },
      "execution_count": 9,
      "outputs": [
        {
          "output_type": "stream",
          "name": "stdout",
          "text": [
            "Bolígrafo Bic Cristal Punto Ultrafino Negro\n",
            "Cuaderno College Norma Color Cosido Cuadro Chico 100 Hojas\n",
            "Pantalla TCL Smart 32\" HD Smart TV\n",
            "Camara Web Acteck 720P WM20 Negro\n",
            "Mouse Gaming Inalámbrico Hiperion Balam Rush Espectrum\n",
            "Tinte para Cabello Tono Vainilla 100% Cobertura de Canas Nutrisse 157 ml\n",
            "Shampoo Fructis Brillo Vitaminado 650 ml\n",
            "Desodorante en Roll On Bí-O Clinical Hialurónico 50 ml\n",
            "Tabletas Alliviax Naproxeno Sódico 550 mg\n",
            "Estuche de Chocolates Ferrero Rocher \n",
            "Chocolates Bon o Bon\n"
          ]
        }
      ]
    },
    {
      "cell_type": "markdown",
      "source": [
        "4. Especificar un valor de un solo dato"
      ],
      "metadata": {
        "id": "O0-LnbmZ03fk"
      }
    },
    {
      "cell_type": "code",
      "source": [
        "productos['Camara Web Acteck 720P WM20 Negro'], productos['Bolígrafo Bic Cristal Punto Ultrafino Negro'], productos['Shampoo Fructis Brillo Vitaminado 650 ml']"
      ],
      "metadata": {
        "colab": {
          "base_uri": "https://localhost:8080/"
        },
        "id": "0ABp9qFl0f5p",
        "outputId": "74b4a02c-2913-4d0d-92c6-4caf5d71cad4"
      },
      "execution_count": 10,
      "outputs": [
        {
          "output_type": "execute_result",
          "data": {
            "text/plain": [
              "(319.9, 7.3, 79.9)"
            ]
          },
          "metadata": {},
          "execution_count": 10
        }
      ]
    },
    {
      "cell_type": "markdown",
      "source": [
        "5. Un método básico con los datos de esa lista"
      ],
      "metadata": {
        "id": "K3pJwQty1aEV"
      }
    },
    {
      "cell_type": "code",
      "source": [
        "print(productos.astype(\"string\"),\"\\n\")\n",
        "print(productos.value_counts(),\"\\n\")\n",
        "print(productos.sort_values())"
      ],
      "metadata": {
        "colab": {
          "base_uri": "https://localhost:8080/"
        },
        "id": "yUUMARqJ1ZaP",
        "outputId": "5736005f-5b88-4236-c99a-d60776c1483d"
      },
      "execution_count": 11,
      "outputs": [
        {
          "output_type": "stream",
          "name": "stdout",
          "text": [
            "Bolígrafo Bic Cristal Punto Ultrafino Negro                                    7.3\n",
            "Cuaderno College Norma Color Cosido Cuadro Chico 100 Hojas                    76.9\n",
            "Pantalla TCL Smart 32\" HD Smart TV                                          4799.9\n",
            "Camara Web Acteck 720P WM20 Negro                                            319.9\n",
            "Mouse Gaming Inalámbrico Hiperion Balam Rush Espectrum                       749.0\n",
            "Tinte para Cabello Tono Vainilla 100% Cobertura de Canas Nutrisse 157 ml      73.9\n",
            "Shampoo Fructis Brillo Vitaminado 650 ml                                      79.9\n",
            "Desodorante en Roll On Bí-O Clinical Hialurónico 50 ml                        39.9\n",
            "Tabletas Alliviax Naproxeno Sódico 550 mg                                     9.89\n",
            "Estuche de Chocolates Ferrero Rocher                                          8.75\n",
            "Chocolates Bon o Bon                                                           5.0\n",
            "dtype: string \n",
            "\n",
            "7.30       1\n",
            "76.90      1\n",
            "4799.90    1\n",
            "319.90     1\n",
            "749.00     1\n",
            "73.90      1\n",
            "79.90      1\n",
            "39.90      1\n",
            "9.89       1\n",
            "8.75       1\n",
            "5.00       1\n",
            "dtype: int64 \n",
            "\n",
            "Chocolates Bon o Bon                                                           5.00\n",
            "Bolígrafo Bic Cristal Punto Ultrafino Negro                                    7.30\n",
            "Estuche de Chocolates Ferrero Rocher                                           8.75\n",
            "Tabletas Alliviax Naproxeno Sódico 550 mg                                      9.89\n",
            "Desodorante en Roll On Bí-O Clinical Hialurónico 50 ml                        39.90\n",
            "Tinte para Cabello Tono Vainilla 100% Cobertura de Canas Nutrisse 157 ml      73.90\n",
            "Cuaderno College Norma Color Cosido Cuadro Chico 100 Hojas                    76.90\n",
            "Shampoo Fructis Brillo Vitaminado 650 ml                                      79.90\n",
            "Camara Web Acteck 720P WM20 Negro                                            319.90\n",
            "Mouse Gaming Inalámbrico Hiperion Balam Rush Espectrum                       749.00\n",
            "Pantalla TCL Smart 32\" HD Smart TV                                          4799.90\n",
            "dtype: float64\n"
          ]
        }
      ]
    },
    {
      "cell_type": "markdown",
      "source": [
        "6.Realizar operaciones con la serie"
      ],
      "metadata": {
        "id": "rVCn8sj8M5dg"
      }
    },
    {
      "cell_type": "code",
      "source": [
        "productos + 1"
      ],
      "metadata": {
        "colab": {
          "base_uri": "https://localhost:8080/"
        },
        "id": "ndGr4deeMnGq",
        "outputId": "6d67c98a-9238-4bdf-f507-81503e9eb15d"
      },
      "execution_count": 17,
      "outputs": [
        {
          "output_type": "execute_result",
          "data": {
            "text/plain": [
              "Bolígrafo Bic Cristal Punto Ultrafino Negro                                    8.30\n",
              "Cuaderno College Norma Color Cosido Cuadro Chico 100 Hojas                    77.90\n",
              "Pantalla TCL Smart 32\" HD Smart TV                                          4800.90\n",
              "Camara Web Acteck 720P WM20 Negro                                            320.90\n",
              "Mouse Gaming Inalámbrico Hiperion Balam Rush Espectrum                       750.00\n",
              "Tinte para Cabello Tono Vainilla 100% Cobertura de Canas Nutrisse 157 ml      74.90\n",
              "Shampoo Fructis Brillo Vitaminado 650 ml                                      80.90\n",
              "Desodorante en Roll On Bí-O Clinical Hialurónico 50 ml                        40.90\n",
              "Tabletas Alliviax Naproxeno Sódico 550 mg                                     10.89\n",
              "Estuche de Chocolates Ferrero Rocher                                           9.75\n",
              "Chocolates Bon o Bon                                                           6.00\n",
              "dtype: float64"
            ]
          },
          "metadata": {},
          "execution_count": 17
        }
      ]
    },
    {
      "cell_type": "code",
      "source": [
        "productos + productos"
      ],
      "metadata": {
        "colab": {
          "base_uri": "https://localhost:8080/"
        },
        "id": "xyuEp0hNNAlw",
        "outputId": "4f92abe7-ed15-41b9-ad8b-1bf91618c67c"
      },
      "execution_count": 18,
      "outputs": [
        {
          "output_type": "execute_result",
          "data": {
            "text/plain": [
              "Bolígrafo Bic Cristal Punto Ultrafino Negro                                   14.60\n",
              "Cuaderno College Norma Color Cosido Cuadro Chico 100 Hojas                   153.80\n",
              "Pantalla TCL Smart 32\" HD Smart TV                                          9599.80\n",
              "Camara Web Acteck 720P WM20 Negro                                            639.80\n",
              "Mouse Gaming Inalámbrico Hiperion Balam Rush Espectrum                      1498.00\n",
              "Tinte para Cabello Tono Vainilla 100% Cobertura de Canas Nutrisse 157 ml     147.80\n",
              "Shampoo Fructis Brillo Vitaminado 650 ml                                     159.80\n",
              "Desodorante en Roll On Bí-O Clinical Hialurónico 50 ml                        79.80\n",
              "Tabletas Alliviax Naproxeno Sódico 550 mg                                     19.78\n",
              "Estuche de Chocolates Ferrero Rocher                                          17.50\n",
              "Chocolates Bon o Bon                                                          10.00\n",
              "dtype: float64"
            ]
          },
          "metadata": {},
          "execution_count": 18
        }
      ]
    },
    {
      "cell_type": "code",
      "source": [
        "productos / 2"
      ],
      "metadata": {
        "colab": {
          "base_uri": "https://localhost:8080/"
        },
        "id": "cloVXesoNDJ4",
        "outputId": "031dad0b-bef9-4391-bb15-a745f95446f1"
      },
      "execution_count": 20,
      "outputs": [
        {
          "output_type": "execute_result",
          "data": {
            "text/plain": [
              "Bolígrafo Bic Cristal Punto Ultrafino Negro                                    3.650\n",
              "Cuaderno College Norma Color Cosido Cuadro Chico 100 Hojas                    38.450\n",
              "Pantalla TCL Smart 32\" HD Smart TV                                          2399.950\n",
              "Camara Web Acteck 720P WM20 Negro                                            159.950\n",
              "Mouse Gaming Inalámbrico Hiperion Balam Rush Espectrum                       374.500\n",
              "Tinte para Cabello Tono Vainilla 100% Cobertura de Canas Nutrisse 157 ml      36.950\n",
              "Shampoo Fructis Brillo Vitaminado 650 ml                                      39.950\n",
              "Desodorante en Roll On Bí-O Clinical Hialurónico 50 ml                        19.950\n",
              "Tabletas Alliviax Naproxeno Sódico 550 mg                                      4.945\n",
              "Estuche de Chocolates Ferrero Rocher                                           4.375\n",
              "Chocolates Bon o Bon                                                           2.500\n",
              "dtype: float64"
            ]
          },
          "metadata": {},
          "execution_count": 20
        }
      ]
    },
    {
      "cell_type": "code",
      "source": [
        "productos * 3"
      ],
      "metadata": {
        "colab": {
          "base_uri": "https://localhost:8080/"
        },
        "id": "UKn2Dh98NNVD",
        "outputId": "29244d09-06c2-445f-9c98-66af8e4c6d3c"
      },
      "execution_count": 22,
      "outputs": [
        {
          "output_type": "execute_result",
          "data": {
            "text/plain": [
              "Bolígrafo Bic Cristal Punto Ultrafino Negro                                    21.90\n",
              "Cuaderno College Norma Color Cosido Cuadro Chico 100 Hojas                    230.70\n",
              "Pantalla TCL Smart 32\" HD Smart TV                                          14399.70\n",
              "Camara Web Acteck 720P WM20 Negro                                             959.70\n",
              "Mouse Gaming Inalámbrico Hiperion Balam Rush Espectrum                       2247.00\n",
              "Tinte para Cabello Tono Vainilla 100% Cobertura de Canas Nutrisse 157 ml      221.70\n",
              "Shampoo Fructis Brillo Vitaminado 650 ml                                      239.70\n",
              "Desodorante en Roll On Bí-O Clinical Hialurónico 50 ml                        119.70\n",
              "Tabletas Alliviax Naproxeno Sódico 550 mg                                      29.67\n",
              "Estuche de Chocolates Ferrero Rocher                                           26.25\n",
              "Chocolates Bon o Bon                                                           15.00\n",
              "dtype: float64"
            ]
          },
          "metadata": {},
          "execution_count": 22
        }
      ]
    },
    {
      "cell_type": "code",
      "source": [
        "productos - 2"
      ],
      "metadata": {
        "colab": {
          "base_uri": "https://localhost:8080/"
        },
        "id": "xfKB0oOiNPrr",
        "outputId": "ede080b1-5b54-4867-f7f3-6b0a49a4202d"
      },
      "execution_count": 24,
      "outputs": [
        {
          "output_type": "execute_result",
          "data": {
            "text/plain": [
              "Bolígrafo Bic Cristal Punto Ultrafino Negro                                    5.30\n",
              "Cuaderno College Norma Color Cosido Cuadro Chico 100 Hojas                    74.90\n",
              "Pantalla TCL Smart 32\" HD Smart TV                                          4797.90\n",
              "Camara Web Acteck 720P WM20 Negro                                            317.90\n",
              "Mouse Gaming Inalámbrico Hiperion Balam Rush Espectrum                       747.00\n",
              "Tinte para Cabello Tono Vainilla 100% Cobertura de Canas Nutrisse 157 ml      71.90\n",
              "Shampoo Fructis Brillo Vitaminado 650 ml                                      77.90\n",
              "Desodorante en Roll On Bí-O Clinical Hialurónico 50 ml                        37.90\n",
              "Tabletas Alliviax Naproxeno Sódico 550 mg                                      7.89\n",
              "Estuche de Chocolates Ferrero Rocher                                           6.75\n",
              "Chocolates Bon o Bon                                                           3.00\n",
              "dtype: float64"
            ]
          },
          "metadata": {},
          "execution_count": 24
        }
      ]
    },
    {
      "cell_type": "code",
      "source": [
        "productos.max()"
      ],
      "metadata": {
        "colab": {
          "base_uri": "https://localhost:8080/"
        },
        "id": "UOnY0M-pNRNk",
        "outputId": "58abe336-575e-41d0-9650-070a67053018"
      },
      "execution_count": 25,
      "outputs": [
        {
          "output_type": "execute_result",
          "data": {
            "text/plain": [
              "4799.9"
            ]
          },
          "metadata": {},
          "execution_count": 25
        }
      ]
    },
    {
      "cell_type": "code",
      "source": [
        "productos.min()"
      ],
      "metadata": {
        "colab": {
          "base_uri": "https://localhost:8080/"
        },
        "id": "WC_mj5a3NUx0",
        "outputId": "b8f77907-49de-468d-fe1f-4d7bc93bb1b7"
      },
      "execution_count": 26,
      "outputs": [
        {
          "output_type": "execute_result",
          "data": {
            "text/plain": [
              "5.0"
            ]
          },
          "metadata": {},
          "execution_count": 26
        }
      ]
    },
    {
      "cell_type": "code",
      "source": [
        "productos.sum()"
      ],
      "metadata": {
        "colab": {
          "base_uri": "https://localhost:8080/"
        },
        "id": "yetfzjKeNWRd",
        "outputId": "7d5fa8b0-eb6b-4b49-80cf-8cdd0f034b28"
      },
      "execution_count": 27,
      "outputs": [
        {
          "output_type": "execute_result",
          "data": {
            "text/plain": [
              "6170.339999999999"
            ]
          },
          "metadata": {},
          "execution_count": 27
        }
      ]
    },
    {
      "cell_type": "code",
      "source": [
        "productos.var()"
      ],
      "metadata": {
        "colab": {
          "base_uri": "https://localhost:8080/"
        },
        "id": "2VbyhHldNXmN",
        "outputId": "540bfa11-1cc3-41b6-ad53-b6fd2dcfb3bf"
      },
      "execution_count": 28,
      "outputs": [
        {
          "output_type": "execute_result",
          "data": {
            "text/plain": [
              "2026079.0004999998"
            ]
          },
          "metadata": {},
          "execution_count": 28
        }
      ]
    },
    {
      "cell_type": "code",
      "source": [
        "productos.std()"
      ],
      "metadata": {
        "colab": {
          "base_uri": "https://localhost:8080/"
        },
        "id": "iKeKT9LrNZCm",
        "outputId": "ccee8271-2995-400d-e79b-fbb81ea59054"
      },
      "execution_count": 29,
      "outputs": [
        {
          "output_type": "execute_result",
          "data": {
            "text/plain": [
              "1423.4040187171033"
            ]
          },
          "metadata": {},
          "execution_count": 29
        }
      ]
    },
    {
      "cell_type": "code",
      "source": [
        "productos.cumsum()"
      ],
      "metadata": {
        "colab": {
          "base_uri": "https://localhost:8080/"
        },
        "id": "nRvPf89JNa8G",
        "outputId": "6d35a026-2938-4a4d-b7ff-fb0448f3c3c3"
      },
      "execution_count": 30,
      "outputs": [
        {
          "output_type": "execute_result",
          "data": {
            "text/plain": [
              "Bolígrafo Bic Cristal Punto Ultrafino Negro                                    7.30\n",
              "Cuaderno College Norma Color Cosido Cuadro Chico 100 Hojas                    84.20\n",
              "Pantalla TCL Smart 32\" HD Smart TV                                          4884.10\n",
              "Camara Web Acteck 720P WM20 Negro                                           5204.00\n",
              "Mouse Gaming Inalámbrico Hiperion Balam Rush Espectrum                      5953.00\n",
              "Tinte para Cabello Tono Vainilla 100% Cobertura de Canas Nutrisse 157 ml    6026.90\n",
              "Shampoo Fructis Brillo Vitaminado 650 ml                                    6106.80\n",
              "Desodorante en Roll On Bí-O Clinical Hialurónico 50 ml                      6146.70\n",
              "Tabletas Alliviax Naproxeno Sódico 550 mg                                   6156.59\n",
              "Estuche de Chocolates Ferrero Rocher                                        6165.34\n",
              "Chocolates Bon o Bon                                                        6170.34\n",
              "dtype: float64"
            ]
          },
          "metadata": {},
          "execution_count": 30
        }
      ]
    },
    {
      "cell_type": "code",
      "source": [
        "productos.describe()"
      ],
      "metadata": {
        "colab": {
          "base_uri": "https://localhost:8080/"
        },
        "id": "4lo24hDmNcpe",
        "outputId": "15a41418-e9ac-435e-bcc3-9802c5c0cb3f"
      },
      "execution_count": 31,
      "outputs": [
        {
          "output_type": "execute_result",
          "data": {
            "text/plain": [
              "count      11.000000\n",
              "mean      560.940000\n",
              "std      1423.404019\n",
              "min         5.000000\n",
              "25%         9.320000\n",
              "50%        73.900000\n",
              "75%       199.900000\n",
              "max      4799.900000\n",
              "dtype: float64"
            ]
          },
          "metadata": {},
          "execution_count": 31
        }
      ]
    },
    {
      "cell_type": "code",
      "source": [
        "productos.mean()"
      ],
      "metadata": {
        "colab": {
          "base_uri": "https://localhost:8080/"
        },
        "id": "f0lTNc0rNfUG",
        "outputId": "9227312c-dc8d-4c28-f5fb-186d2f9e3f08"
      },
      "execution_count": 32,
      "outputs": [
        {
          "output_type": "execute_result",
          "data": {
            "text/plain": [
              "560.9399999999999"
            ]
          },
          "metadata": {},
          "execution_count": 32
        }
      ]
    },
    {
      "cell_type": "markdown",
      "source": [
        "7. Graficar la lista"
      ],
      "metadata": {
        "id": "35uufihiNnN4"
      }
    },
    {
      "cell_type": "code",
      "source": [
        "productos.plot()"
      ],
      "metadata": {
        "colab": {
          "base_uri": "https://localhost:8080/",
          "height": 451
        },
        "id": "8byYFlyBNhRv",
        "outputId": "f613db41-edaa-4e6a-b75c-194d8bd39f76"
      },
      "execution_count": 33,
      "outputs": [
        {
          "output_type": "execute_result",
          "data": {
            "text/plain": [
              "<Axes: >"
            ]
          },
          "metadata": {},
          "execution_count": 33
        },
        {
          "output_type": "display_data",
          "data": {
            "text/plain": [
              "<Figure size 640x480 with 1 Axes>"
            ],
            "image/png": "[encoded data removed]"
          },
          "metadata": {}
        }
      ]
    }
  ]
}